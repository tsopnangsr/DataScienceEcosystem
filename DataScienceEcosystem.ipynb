{
 "cells": [
  {
   "cell_type": "markdown",
   "id": "60489702-a161-4767-bdf2-34f283419216",
   "metadata": {},
   "source": [
    "# Data Science Tools and Ecosystem"
   ]
  },
  {
   "cell_type": "markdown",
   "id": "00824f75-6ab8-4841-a4c6-81776a7a2cca",
   "metadata": {},
   "source": [
    "In this notebook, Data Science Tools and Ecosystem are summarized."
   ]
  },
  {
   "cell_type": "markdown",
   "id": "121f6cd6-9cc9-4041-ba07-996f1169764c",
   "metadata": {},
   "source": [
    "**Objectives:**\n",
    "* List popular languages for Data Science\n",
    "* List common libraries for Data Science\n",
    "* List 3 Data Science Tools\n",
    "* Evaluating arithmetic expressions in Python\n",
    "* Convert 200 minutes to hours by dividing by 60"
   ]
  },
  {
   "cell_type": "markdown",
   "id": "4ff2cbcb-05d3-4dca-ba9c-cbe278e3ff81",
   "metadata": {},
   "source": [
    "Some of the popular languages that Data Scientists use are:\n",
    "1. Python\n",
    "2. R\n",
    "3. Julia\n",
    "4. SQL\n",
    "5. Java\n",
    "6. VBA\n",
    "7. javaScript\n",
    "8. C++\n",
    "9. Scala"
   ]
  },
  {
   "cell_type": "markdown",
   "id": "51d2fd32-da95-428d-b30b-1a9719e49ef1",
   "metadata": {},
   "source": [
    "Some of the commonly used libraries used by Data Scientists include:\n",
    "1. NumPy\n",
    "2. Matplotlib\n",
    "3. Pandas\n",
    "4. Scikit-learn\n",
    "5. SciPy\n",
    "6. TensorFlow\n",
    "7. Keras\n",
    "8. PyTorch\n",
    "9. Seaborn"
   ]
  },
  {
   "cell_type": "markdown",
   "id": "2d6dbaae-415c-4443-b4ba-4e6a0d8880a9",
   "metadata": {},
   "source": [
    "Data Science Tools |\n",
    "------------------|\n",
    "Apache Hadoop |\n",
    "Apache Spark |\n",
    "Jupiter Notebook |"
   ]
  },
  {
   "cell_type": "markdown",
   "id": "494795dd-352d-4861-aed5-6f51ab442085",
   "metadata": {},
   "source": [
    "### Below are a few examples of evaluating arithmetic expressions in Python"
   ]
  },
  {
   "cell_type": "code",
   "execution_count": 1,
   "id": "7ee0f6e0-485f-45f6-8365-5c7a26798af3",
   "metadata": {},
   "outputs": [
    {
     "data": {
      "text/plain": [
       "8"
      ]
     },
     "execution_count": 1,
     "metadata": {},
     "output_type": "execute_result"
    }
   ],
   "source": [
    "3+5"
   ]
  },
  {
   "cell_type": "code",
   "execution_count": 2,
   "id": "e84c8e92-acfe-4674-9619-fad67e72b813",
   "metadata": {},
   "outputs": [
    {
     "data": {
      "text/plain": [
       "7"
      ]
     },
     "execution_count": 2,
     "metadata": {},
     "output_type": "execute_result"
    }
   ],
   "source": [
    "9-2"
   ]
  },
  {
   "cell_type": "code",
   "execution_count": 3,
   "id": "9c4da041-8c7e-499c-afd7-d0c99e419497",
   "metadata": {},
   "outputs": [
    {
     "data": {
      "text/plain": [
       "18"
      ]
     },
     "execution_count": 3,
     "metadata": {},
     "output_type": "execute_result"
    }
   ],
   "source": [
    "6*3"
   ]
  },
  {
   "cell_type": "code",
   "execution_count": 4,
   "id": "446f6bdd-037b-4f78-b8cf-88dd8bc2c33e",
   "metadata": {},
   "outputs": [
    {
     "data": {
      "text/plain": [
       "5.0"
      ]
     },
     "execution_count": 4,
     "metadata": {},
     "output_type": "execute_result"
    }
   ],
   "source": [
    "15/3"
   ]
  },
  {
   "cell_type": "code",
   "execution_count": 5,
   "id": "f183de9c-a015-4560-8414-b2e4561624d0",
   "metadata": {},
   "outputs": [
    {
     "data": {
      "text/plain": [
       "17"
      ]
     },
     "execution_count": 5,
     "metadata": {},
     "output_type": "execute_result"
    }
   ],
   "source": [
    "# This a simple arithmetic expression to mutiply then add integers\n",
    "(3*4)+5"
   ]
  },
  {
   "cell_type": "code",
   "execution_count": 6,
   "id": "10f0495d-0f19-427f-bf40-49e9272d015d",
   "metadata": {},
   "outputs": [
    {
     "data": {
      "text/plain": [
       "3.3333333333333335"
      ]
     },
     "execution_count": 6,
     "metadata": {},
     "output_type": "execute_result"
    }
   ],
   "source": [
    "# This will convert 200 minutes to hours by diving by 60\n",
    "200/60"
   ]
  },
  {
   "cell_type": "markdown",
   "id": "61aefbce-08ef-428a-babe-aaa44a6b19eb",
   "metadata": {},
   "source": [
    "## Author\n",
    "Tsopnang Saounde Romaric"
   ]
  },
  {
   "cell_type": "code",
   "execution_count": null,
   "id": "c295fcd9-cbea-4d5d-ae9a-5ed19c222f15",
   "metadata": {},
   "outputs": [],
   "source": [
    "\n",
    "\n",
    "\n",
    "\n",
    "\n",
    "\n",
    "\n",
    "\n",
    "\n",
    "\n",
    "\n"
   ]
  }
 ],
 "metadata": {
  "kernelspec": {
   "display_name": "Python 3 (ipykernel)",
   "language": "python",
   "name": "python3"
  },
  "language_info": {
   "codemirror_mode": {
    "name": "ipython",
    "version": 3
   },
   "file_extension": ".py",
   "mimetype": "text/x-python",
   "name": "python",
   "nbconvert_exporter": "python",
   "pygments_lexer": "ipython3",
   "version": "3.12.5"
  }
 },
 "nbformat": 4,
 "nbformat_minor": 5
}
